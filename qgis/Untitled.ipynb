{
 "cells": [
  {
   "cell_type": "code",
   "execution_count": 9,
   "id": "85244d5d-883c-4d6b-b227-58f0e22f06ca",
   "metadata": {},
   "outputs": [
    {
     "name": "stdout",
     "output_type": "stream",
     "text": [
      "Lat: 42.49554444, Lon: -92.3343472\n"
     ]
    }
   ],
   "source": [
    "import requests\n",
    "\n",
    "def get_usgs_coords(usgs_id):\n",
    "    # 确保 usgs_id 为8位字符串\n",
    "    usgs_id_str = str(usgs_id).zfill(8)\n",
    "    url = f\"https://waterservices.usgs.gov/nwis/site/?format=rdb&sites={usgs_id_str}\"\n",
    "    r = requests.get(url)\n",
    "    for line in r.text.splitlines():\n",
    "        # 跳过注释、空行和标题行\n",
    "        if line.startswith('#') or line.strip() == '' or line.startswith('site_no'):\n",
    "            continue\n",
    "        parts = line.split('\\t')\n",
    "        # 检查是否有足够的字段（至少6个）\n",
    "        if len(parts) >= 6:\n",
    "            try:\n",
    "                lat = float(parts[4])\n",
    "                lon = float(parts[5])\n",
    "                return lat, lon\n",
    "            except ValueError:\n",
    "                # 如果转换失败则跳过这一行\n",
    "                continue\n",
    "    return None, None\n",
    "\n",
    "lat, lon = get_usgs_coords(\"05464000\")\n",
    "print(f\"Lat: {lat}, Lon: {lon}\")\n"
   ]
  },
  {
   "cell_type": "code",
   "execution_count": null,
   "id": "19d7076b-4f6e-4953-b1c2-7857595b1ea9",
   "metadata": {},
   "outputs": [],
   "source": []
  }
 ],
 "metadata": {
  "kernelspec": {
   "display_name": "Hydro_cuda",
   "language": "python",
   "name": "hydro_cuda"
  },
  "language_info": {
   "codemirror_mode": {
    "name": "ipython",
    "version": 3
   },
   "file_extension": ".py",
   "mimetype": "text/x-python",
   "name": "python",
   "nbconvert_exporter": "python",
   "pygments_lexer": "ipython3",
   "version": "3.11.4"
  }
 },
 "nbformat": 4,
 "nbformat_minor": 5
}
